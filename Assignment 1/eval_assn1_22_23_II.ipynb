{
 "cells": [
  {
   "cell_type": "code",
   "execution_count": 1,
   "metadata": {
    "id": "l2NoAdC5g4bX"
   },
   "outputs": [],
   "source": [
    "import numpy as np\n",
    "from submit import my_fit\n",
    "from submit import my_predict\n",
    "import time as tm\n",
    "import pickle\n",
    "import os\n",
    "import sklearn\n",
    "from collections import defaultdict\n",
    "from sklearn.linear_model import LogisticRegression"
   ]
  },
  {
   "cell_type": "code",
   "execution_count": 2,
   "metadata": {
    "colab": {
     "base_uri": "https://localhost:8080/",
     "height": 380
    },
    "id": "tqlRxQX_g_jw",
    "outputId": "a4f31284-93e9-4187-94cd-83d57f477d86"
   },
   "outputs": [],
   "source": [
    "R = 64\n",
    "S = 4\n",
    "\n",
    "Z_trn = np.loadtxt( \"./dummy/secret_train.dat\" )\n",
    "Z_tst = np.loadtxt( \"./dummy/secret_test.dat\" )\n",
    "\n",
    "n_trials = 5\n",
    "\n",
    "t_train = 0\n",
    "m_size = 0\n",
    "t_test = 0\n",
    "acc = 0"
   ]
  },
  {
   "cell_type": "code",
   "execution_count": null,
   "metadata": {
    "colab": {
     "base_uri": "https://localhost:8080/"
    },
    "id": "0LqLNUdUhEbu",
    "outputId": "e335d37c-4ea1-48d1-f414-c64358a10aa0"
   },
   "outputs": [],
   "source": [
    "for t in range( n_trials ):\n",
    "\ttic = tm.perf_counter()\n",
    "\tmodel = my_fit( Z_trn )\n",
    "\ttoc = tm.perf_counter()\n",
    "\tt_train += toc - tic\n",
    "\n",
    "\twith open( f\"model_dump_{t}.pkl\", \"wb\" ) as outfile:\n",
    "\t\tpickle.dump( model, outfile, protocol=pickle.HIGHEST_PROTOCOL )\n",
    "\t\n",
    "\tm_size += os.path.getsize( f\"model_dump_{t}.pkl\" )\n",
    "\t\n",
    "\ttic = tm.perf_counter()\n",
    "\tpred = my_predict( Z_tst[:, :-1], model )\n",
    "\ttoc = tm.perf_counter()\n",
    "\tt_test += toc - tic\n",
    "\t\n",
    "\tacc += np.average( Z_tst[ :, -1 ] == pred )"
   ]
  },
  {
   "cell_type": "code",
   "execution_count": null,
   "metadata": {
    "colab": {
     "base_uri": "https://localhost:8080/"
    },
    "id": "o38Djo7KhIAF",
    "outputId": "ea1345f6-d95e-4e4c-97e8-3bd6f13b60c8"
   },
   "outputs": [],
   "source": [
    "t_train /= n_trials\n",
    "t_test /= n_trials\n",
    "m_size /= n_trials\n",
    "acc /= n_trials\n",
    "\n",
    "print( t_train, t_test, m_size, acc )"
   ]
  }
 ],
 "metadata": {
  "colab": {
   "provenance": []
  },
  "kernelspec": {
   "display_name": "Python 3",
   "language": "python",
   "name": "python3"
  },
  "language_info": {
   "codemirror_mode": {
    "name": "ipython",
    "version": 3
   },
   "file_extension": ".py",
   "mimetype": "text/x-python",
   "name": "python",
   "nbconvert_exporter": "python",
   "pygments_lexer": "ipython3",
   "version": "3.8.10"
  },
  "vscode": {
   "interpreter": {
    "hash": "916dbcbb3f70747c44a77c7bcd40155683ae19c65e1c03b4aa3499c5328201f1"
   }
  }
 },
 "nbformat": 4,
 "nbformat_minor": 1
}
